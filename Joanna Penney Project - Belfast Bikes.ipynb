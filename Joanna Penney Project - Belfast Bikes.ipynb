{
 "cells": [
  {
   "cell_type": "markdown",
   "id": "34fcbb8b",
   "metadata": {},
   "source": [
    "To Start, The GIS modules must be imported, and a new base map must be created. This will allow the functions stated after this to work within an ArcGIS environment, providing a quicker and more reliable way of analysing and presenting GIS data. \n",
    "\n",
    "The cell below should import GIS and set up a new map workspace."
   ]
  },
  {
   "cell_type": "code",
   "execution_count": 17,
   "id": "7613fb2f",
   "metadata": {
    "scrolled": true
   },
   "outputs": [
    {
     "data": {
      "text/plain": [
       "<bound method GIS.map of GIS @ https://www.arcgis.com version:10.1>"
      ]
     },
     "execution_count": 17,
     "metadata": {},
     "output_type": "execute_result"
    }
   ],
   "source": [
    "import arcgis\n",
    "from arcgis.gis import GIS\n",
    "\n",
    "myGIS = GIS()\n",
    "\n",
    "myMap = myGIS.map\n",
    "\n",
    "myMap"
   ]
  },
  {
   "cell_type": "markdown",
   "id": "f2a099a4",
   "metadata": {},
   "source": [
    "Now that there is a new map of the world visible and ready to be worked on, I would like the map to zoom to where my study area is. In this case, my study area is Belfast. I would also like the map to zoom into Belfast, allowing me to see the detain within the area and suburbs. To do this, I have added a zoom number that works well (discovered from trial and error) after the , at \"Belfast\""
   ]
  },
  {
   "cell_type": "code",
   "execution_count": null,
   "id": "a95ce3f8",
   "metadata": {},
   "outputs": [],
   "source": [
    "myMap = myGIS.map(\"Belfast\",14)\n",
    "\n",
    "myMap"
   ]
  },
  {
   "cell_type": "markdown",
   "id": "df09457d",
   "metadata": {},
   "source": [
    "When I am happy with where the map is situated, I would like to set the location, meaning that the map should always go to this position when 'summoned'"
   ]
  },
  {
   "cell_type": "code",
   "execution_count": null,
   "id": "eebb9ec7",
   "metadata": {},
   "outputs": [],
   "source": [
    "location = ('Belfast',14)[0]\n",
    "\n",
    "myMap.draw(location)\n",
    "\n",
    "myMap"
   ]
  },
  {
   "cell_type": "markdown",
   "id": "6a82f274",
   "metadata": {},
   "source": [
    "I am not happy with the current map being used as the basemap and would like to see my options for basemaps. The following cell will bring up a list of the basemaps available to choose from"
   ]
  },
  {
   "cell_type": "code",
   "execution_count": null,
   "id": "b60634e4",
   "metadata": {
    "scrolled": true
   },
   "outputs": [],
   "source": [
    "myMap.basemaps"
   ]
  },
  {
   "cell_type": "markdown",
   "id": "edb3a4d6",
   "metadata": {},
   "source": [
    "Out of this list, I want to choose the Hybrid map as my basemap and would like to set this as the basemap. To do this, run the following cell "
   ]
  },
  {
   "cell_type": "code",
   "execution_count": null,
   "id": "545c5a6d",
   "metadata": {},
   "outputs": [],
   "source": [
    "myMap.basemap = ('hybrid')\n",
    "\n",
    "myMap"
   ]
  },
  {
   "cell_type": "markdown",
   "id": "0e6b39bb",
   "metadata": {},
   "source": [
    "I would now like to rename my Basemap. As I am working on the location Belfast, I will rename my map Belfast."
   ]
  },
  {
   "cell_type": "code",
   "execution_count": null,
   "id": "b000bff9",
   "metadata": {},
   "outputs": [],
   "source": [
    "Belfast = myMap\n",
    "\n",
    "Belfast"
   ]
  },
  {
   "cell_type": "markdown",
   "id": "69118da7",
   "metadata": {},
   "source": [
    "I would like to add live data to my map. To do this, I can search Live Atlas, a free ESRI resource that houses datasets that can be imported to a map. For this project, I would like to search for information on the Northern Ireland or UK Bike networks. The following function should run this search."
   ]
  },
  {
   "cell_type": "code",
   "execution_count": null,
   "id": "38a0d5a6",
   "metadata": {},
   "outputs": [],
   "source": [
    "Bikes = myGIS.content.search (\"Northern Ireland bikes\")\n",
    "\n",
    "Bikes"
   ]
  },
  {
   "cell_type": "markdown",
   "id": "b2dd0b7b",
   "metadata": {},
   "source": [
    "As this is all just text, I am unsure which one would suit best for my project. I can display these results with more information if I run the following cell"
   ]
  },
  {
   "cell_type": "code",
   "execution_count": null,
   "id": "3a18697f",
   "metadata": {
    "scrolled": true
   },
   "outputs": [],
   "source": [
    "for item in Bikes:\n",
    "    display(item)"
   ]
  },
  {
   "cell_type": "markdown",
   "id": "8c0c9c37",
   "metadata": {},
   "source": [
    "After looking through the results, I have decided that the 8th result will suit my project best. In Python, 0 = the first result, so the following cell should add the dataset to this project and rename it."
   ]
  },
  {
   "cell_type": "code",
   "execution_count": null,
   "id": "3ce22d61",
   "metadata": {},
   "outputs": [],
   "source": [
    "bike_network = myGIS.content.get(items[7].id)\n",
    "\n",
    "bike_network"
   ]
  },
  {
   "cell_type": "markdown",
   "id": "0ba4d8a3",
   "metadata": {},
   "source": [
    "I now want to add this layer onto my Belfast map. The following cell should do this."
   ]
  },
  {
   "cell_type": "code",
   "execution_count": null,
   "id": "d0052c46",
   "metadata": {
    "scrolled": true
   },
   "outputs": [],
   "source": [
    "Belfast.add_layer(bike_network)\n",
    "\n",
    "Belfast"
   ]
  },
  {
   "cell_type": "markdown",
   "id": "1306f30b",
   "metadata": {},
   "source": [
    "Before moving forward, I have to import the Geopandas module which will allow me to read a CSV file. "
   ]
  },
  {
   "cell_type": "code",
   "execution_count": null,
   "id": "6ae0284c",
   "metadata": {},
   "outputs": [],
   "source": [
    "import pandas as pd"
   ]
  },
  {
   "cell_type": "markdown",
   "id": "06a233d3",
   "metadata": {},
   "source": [
    "I have a CSV file containing all of the locations of the CocaCola Belfast Bike Stations where you can hire out a bike. I want to add this data into my map also, to see where these stations are in relation to the National cycle Network. To do this, I first want to review the data. I will do this by running the following cell"
   ]
  },
  {
   "cell_type": "code",
   "execution_count": null,
   "id": "c951e936",
   "metadata": {},
   "outputs": [],
   "source": [
    "df = pd.read_csv('belfast-bike-stations-updated-25-june-2021.csv')\n",
    "\n",
    "df"
   ]
  },
  {
   "cell_type": "markdown",
   "id": "397f19fa",
   "metadata": {},
   "source": [
    "Now that i know what the data looks like and am happy with it, I want to import it. To do this, I will run the following cell"
   ]
  },
  {
   "cell_type": "code",
   "execution_count": null,
   "id": "44819f68",
   "metadata": {},
   "outputs": [],
   "source": [
    "Bike_stations = myGIS.content.import_data(df)"
   ]
  },
  {
   "cell_type": "markdown",
   "id": "4a461ec0",
   "metadata": {},
   "source": [
    "This has created a new layer, but it still is not added into my map. To do this, i will carry out the following function. This is the same function used to add the Bike Network into the map."
   ]
  },
  {
   "cell_type": "code",
   "execution_count": null,
   "id": "b6ae2d4d",
   "metadata": {},
   "outputs": [],
   "source": [
    "Belfast.add_layer(Bike_stations, {'render':'ClassedSizeRender', 'field_name':'bikes'})\n",
    "\n",
    "Belfast"
   ]
  },
  {
   "cell_type": "markdown",
   "id": "fd687e8d",
   "metadata": {
    "scrolled": true
   },
   "source": [
    "Through this project, I have created a new location for the map, changed the basemap, added live data from the Living Atlas and added data points from a CSV file. While this project focuses on cycling data, it is not limited to this."
   ]
  }
 ],
 "metadata": {
  "kernelspec": {
   "display_name": "Python 3",
   "language": "python",
   "name": "python3"
  },
  "language_info": {
   "codemirror_mode": {
    "name": "ipython",
    "version": 3
   },
   "file_extension": ".py",
   "mimetype": "text/x-python",
   "name": "python",
   "nbconvert_exporter": "python",
   "pygments_lexer": "ipython3",
   "version": "3.7.13"
  }
 },
 "nbformat": 4,
 "nbformat_minor": 5
}
