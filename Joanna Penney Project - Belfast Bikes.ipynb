{
 "cells": [
  {
   "cell_type": "code",
   "execution_count": null,
   "id": "c98f449a",
   "metadata": {
    "scrolled": true
   },
   "outputs": [],
   "source": [
    "import arcgis\n",
    "from arcgis.gis import GIS\n",
    "\n",
    "myGIS = GIS()\n",
    "\n",
    "myMap = myGIS.map(\"Belfast\", 14)\n",
    "\n",
    "myMap"
   ]
  },
  {
   "cell_type": "code",
   "execution_count": null,
   "id": "fea2ee46",
   "metadata": {},
   "outputs": [],
   "source": [
    "location = ('Belfast',14)[0]\n",
    "\n",
    "myMap.draw(location)\n",
    "\n",
    "myMap"
   ]
  },
  {
   "cell_type": "code",
   "execution_count": null,
   "id": "2c96112e",
   "metadata": {
    "scrolled": true
   },
   "outputs": [],
   "source": [
    "myMap.basemaps"
   ]
  },
  {
   "cell_type": "code",
   "execution_count": null,
   "id": "9f6c62b5",
   "metadata": {},
   "outputs": [],
   "source": [
    "myMap.basemap = ('hybrid')"
   ]
  },
  {
   "cell_type": "code",
   "execution_count": null,
   "id": "9d423f09",
   "metadata": {},
   "outputs": [],
   "source": [
    "Belfast = myMap"
   ]
  },
  {
   "cell_type": "code",
   "execution_count": null,
   "id": "6be38bba",
   "metadata": {},
   "outputs": [],
   "source": [
    "Belfast"
   ]
  },
  {
   "cell_type": "code",
   "execution_count": null,
   "id": "a8b8355d",
   "metadata": {},
   "outputs": [],
   "source": [
    "Bikes = myGIS.content.search (\"Northern Ireland bikes\")\n",
    "items"
   ]
  },
  {
   "cell_type": "code",
   "execution_count": null,
   "id": "ce4722d4",
   "metadata": {
    "scrolled": true
   },
   "outputs": [],
   "source": [
    "for item in Bikes:\n",
    "    display(item)"
   ]
  },
  {
   "cell_type": "code",
   "execution_count": null,
   "id": "ae387805",
   "metadata": {},
   "outputs": [],
   "source": [
    "bike_network = myGIS.content.get(items[7].id)\n",
    "bike_network"
   ]
  },
  {
   "cell_type": "code",
   "execution_count": null,
   "id": "3b7c3501",
   "metadata": {
    "scrolled": true
   },
   "outputs": [],
   "source": [
    "Belfast.add_layer(bike_network)\n",
    "Belfast"
   ]
  },
  {
   "cell_type": "code",
   "execution_count": null,
   "id": "51ceeea5",
   "metadata": {},
   "outputs": [],
   "source": [
    "import pandas as pd"
   ]
  },
  {
   "cell_type": "code",
   "execution_count": null,
   "id": "6a4f2212",
   "metadata": {},
   "outputs": [],
   "source": [
    "df = pd.read_csv('belfast-bike-stations-updated-25-june-2021.csv')\n",
    "df"
   ]
  },
  {
   "cell_type": "code",
   "execution_count": null,
   "id": "a65accb7",
   "metadata": {},
   "outputs": [],
   "source": [
    "Bike_stations = myGIS.content.import_data(df)"
   ]
  },
  {
   "cell_type": "code",
   "execution_count": null,
   "id": "3b1348db",
   "metadata": {},
   "outputs": [],
   "source": [
    "Belfast.add_layer(Bike_stations, {'render':'ClassedSizeRender', 'field_name':'bikes'})"
   ]
  },
  {
   "cell_type": "code",
   "execution_count": null,
   "id": "75fc0817",
   "metadata": {
    "scrolled": true
   },
   "outputs": [],
   "source": [
    "Belfast"
   ]
  }
 ],
 "metadata": {
  "kernelspec": {
   "display_name": "Python 3",
   "language": "python",
   "name": "python3"
  },
  "language_info": {
   "codemirror_mode": {
    "name": "ipython",
    "version": 3
   },
   "file_extension": ".py",
   "mimetype": "text/x-python",
   "name": "python",
   "nbconvert_exporter": "python",
   "pygments_lexer": "ipython3",
   "version": "3.7.11"
  }
 },
 "nbformat": 4,
 "nbformat_minor": 5
}
